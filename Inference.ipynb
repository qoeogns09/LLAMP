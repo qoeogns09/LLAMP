{
 "cells": [
  {
   "cell_type": "code",
   "execution_count": 1,
   "id": "ab92d3bb-c14a-4810-9394-6b6c4503077f",
   "metadata": {
    "tags": []
   },
   "outputs": [],
   "source": [
    "import pandas as pd\n",
    "import numpy as np\n",
    "\n",
    "import torch\n",
    "import torch.nn as nn\n",
    "\n",
    "from transformers import EsmTokenizer, EsmModel"
   ]
  },
  {
   "cell_type": "code",
   "execution_count": 2,
   "id": "f18424b4-800a-4509-aa25-010a6e1ccc33",
   "metadata": {
    "tags": []
   },
   "outputs": [],
   "source": [
    "from utils import model\n",
    "\n",
    "device = torch.device(f'cuda' if torch.cuda.is_available() else 'cpu')"
   ]
  },
  {
   "cell_type": "markdown",
   "id": "f8213cfa-8d4c-4418-b577-bc9db9a65981",
   "metadata": {},
   "source": [
    "# Load LLAMP model"
   ]
  },
  {
   "cell_type": "code",
   "execution_count": 3,
   "id": "2b03af93-e954-4186-a4e5-e58ca55100cc",
   "metadata": {
    "tags": []
   },
   "outputs": [
    {
     "name": "stderr",
     "output_type": "stream",
     "text": [
      "Some weights of the model checkpoint at Daehun/peptide_tuned_ESM-2 were not used when initializing EsmModel: ['lm_head.layer_norm.bias', 'lm_head.dense.weight', 'lm_head.dense.bias', 'esm.contact_head.regression.bias', 'esm.contact_head.regression.weight', 'lm_head.layer_norm.weight', 'lm_head.decoder.weight', 'lm_head.bias']\n",
      "- This IS expected if you are initializing EsmModel from the checkpoint of a model trained on another task or with another architecture (e.g. initializing a BertForSequenceClassification model from a BertForPreTraining model).\n",
      "- This IS NOT expected if you are initializing EsmModel from the checkpoint of a model that you expect to be exactly identical (initializing a BertForSequenceClassification model from a BertForSequenceClassification model).\n",
      "Some weights of EsmModel were not initialized from the model checkpoint at Daehun/peptide_tuned_ESM-2 and are newly initialized: ['esm.pooler.dense.weight', 'esm.pooler.dense.bias']\n",
      "You should probably TRAIN this model on a down-stream task to be able to use it for predictions and inference.\n"
     ]
    }
   ],
   "source": [
    "LLAMP_model = model.LLAMP(hidden_feat = 256, pooling = 'CLS')"
   ]
  },
  {
   "cell_type": "code",
   "execution_count": 4,
   "id": "af6b0a96-773e-4e40-8741-9bdfc747b1ad",
   "metadata": {
    "tags": []
   },
   "outputs": [
    {
     "data": {
      "text/plain": [
       "LLAMP(\n",
       "  (bert): EsmModel(\n",
       "    (embeddings): EsmEmbeddings(\n",
       "      (word_embeddings): Embedding(33, 480, padding_idx=1)\n",
       "      (dropout): Dropout(p=0.0, inplace=False)\n",
       "      (position_embeddings): Embedding(1026, 480, padding_idx=1)\n",
       "    )\n",
       "    (encoder): EsmEncoder(\n",
       "      (layer): ModuleList(\n",
       "        (0): EsmLayer(\n",
       "          (attention): EsmAttention(\n",
       "            (self): EsmSelfAttention(\n",
       "              (query): Linear(in_features=480, out_features=480, bias=True)\n",
       "              (key): Linear(in_features=480, out_features=480, bias=True)\n",
       "              (value): Linear(in_features=480, out_features=480, bias=True)\n",
       "              (dropout): Dropout(p=0.0, inplace=False)\n",
       "              (rotary_embeddings): RotaryEmbedding()\n",
       "            )\n",
       "            (output): EsmSelfOutput(\n",
       "              (dense): Linear(in_features=480, out_features=480, bias=True)\n",
       "              (dropout): Dropout(p=0.0, inplace=False)\n",
       "            )\n",
       "            (LayerNorm): LayerNorm((480,), eps=1e-05, elementwise_affine=True)\n",
       "          )\n",
       "          (intermediate): EsmIntermediate(\n",
       "            (dense): Linear(in_features=480, out_features=1920, bias=True)\n",
       "          )\n",
       "          (output): EsmOutput(\n",
       "            (dense): Linear(in_features=1920, out_features=480, bias=True)\n",
       "            (dropout): Dropout(p=0.0, inplace=False)\n",
       "          )\n",
       "          (LayerNorm): LayerNorm((480,), eps=1e-05, elementwise_affine=True)\n",
       "        )\n",
       "        (1): EsmLayer(\n",
       "          (attention): EsmAttention(\n",
       "            (self): EsmSelfAttention(\n",
       "              (query): Linear(in_features=480, out_features=480, bias=True)\n",
       "              (key): Linear(in_features=480, out_features=480, bias=True)\n",
       "              (value): Linear(in_features=480, out_features=480, bias=True)\n",
       "              (dropout): Dropout(p=0.0, inplace=False)\n",
       "              (rotary_embeddings): RotaryEmbedding()\n",
       "            )\n",
       "            (output): EsmSelfOutput(\n",
       "              (dense): Linear(in_features=480, out_features=480, bias=True)\n",
       "              (dropout): Dropout(p=0.0, inplace=False)\n",
       "            )\n",
       "            (LayerNorm): LayerNorm((480,), eps=1e-05, elementwise_affine=True)\n",
       "          )\n",
       "          (intermediate): EsmIntermediate(\n",
       "            (dense): Linear(in_features=480, out_features=1920, bias=True)\n",
       "          )\n",
       "          (output): EsmOutput(\n",
       "            (dense): Linear(in_features=1920, out_features=480, bias=True)\n",
       "            (dropout): Dropout(p=0.0, inplace=False)\n",
       "          )\n",
       "          (LayerNorm): LayerNorm((480,), eps=1e-05, elementwise_affine=True)\n",
       "        )\n",
       "        (2): EsmLayer(\n",
       "          (attention): EsmAttention(\n",
       "            (self): EsmSelfAttention(\n",
       "              (query): Linear(in_features=480, out_features=480, bias=True)\n",
       "              (key): Linear(in_features=480, out_features=480, bias=True)\n",
       "              (value): Linear(in_features=480, out_features=480, bias=True)\n",
       "              (dropout): Dropout(p=0.0, inplace=False)\n",
       "              (rotary_embeddings): RotaryEmbedding()\n",
       "            )\n",
       "            (output): EsmSelfOutput(\n",
       "              (dense): Linear(in_features=480, out_features=480, bias=True)\n",
       "              (dropout): Dropout(p=0.0, inplace=False)\n",
       "            )\n",
       "            (LayerNorm): LayerNorm((480,), eps=1e-05, elementwise_affine=True)\n",
       "          )\n",
       "          (intermediate): EsmIntermediate(\n",
       "            (dense): Linear(in_features=480, out_features=1920, bias=True)\n",
       "          )\n",
       "          (output): EsmOutput(\n",
       "            (dense): Linear(in_features=1920, out_features=480, bias=True)\n",
       "            (dropout): Dropout(p=0.0, inplace=False)\n",
       "          )\n",
       "          (LayerNorm): LayerNorm((480,), eps=1e-05, elementwise_affine=True)\n",
       "        )\n",
       "        (3): EsmLayer(\n",
       "          (attention): EsmAttention(\n",
       "            (self): EsmSelfAttention(\n",
       "              (query): Linear(in_features=480, out_features=480, bias=True)\n",
       "              (key): Linear(in_features=480, out_features=480, bias=True)\n",
       "              (value): Linear(in_features=480, out_features=480, bias=True)\n",
       "              (dropout): Dropout(p=0.0, inplace=False)\n",
       "              (rotary_embeddings): RotaryEmbedding()\n",
       "            )\n",
       "            (output): EsmSelfOutput(\n",
       "              (dense): Linear(in_features=480, out_features=480, bias=True)\n",
       "              (dropout): Dropout(p=0.0, inplace=False)\n",
       "            )\n",
       "            (LayerNorm): LayerNorm((480,), eps=1e-05, elementwise_affine=True)\n",
       "          )\n",
       "          (intermediate): EsmIntermediate(\n",
       "            (dense): Linear(in_features=480, out_features=1920, bias=True)\n",
       "          )\n",
       "          (output): EsmOutput(\n",
       "            (dense): Linear(in_features=1920, out_features=480, bias=True)\n",
       "            (dropout): Dropout(p=0.0, inplace=False)\n",
       "          )\n",
       "          (LayerNorm): LayerNorm((480,), eps=1e-05, elementwise_affine=True)\n",
       "        )\n",
       "        (4): EsmLayer(\n",
       "          (attention): EsmAttention(\n",
       "            (self): EsmSelfAttention(\n",
       "              (query): Linear(in_features=480, out_features=480, bias=True)\n",
       "              (key): Linear(in_features=480, out_features=480, bias=True)\n",
       "              (value): Linear(in_features=480, out_features=480, bias=True)\n",
       "              (dropout): Dropout(p=0.0, inplace=False)\n",
       "              (rotary_embeddings): RotaryEmbedding()\n",
       "            )\n",
       "            (output): EsmSelfOutput(\n",
       "              (dense): Linear(in_features=480, out_features=480, bias=True)\n",
       "              (dropout): Dropout(p=0.0, inplace=False)\n",
       "            )\n",
       "            (LayerNorm): LayerNorm((480,), eps=1e-05, elementwise_affine=True)\n",
       "          )\n",
       "          (intermediate): EsmIntermediate(\n",
       "            (dense): Linear(in_features=480, out_features=1920, bias=True)\n",
       "          )\n",
       "          (output): EsmOutput(\n",
       "            (dense): Linear(in_features=1920, out_features=480, bias=True)\n",
       "            (dropout): Dropout(p=0.0, inplace=False)\n",
       "          )\n",
       "          (LayerNorm): LayerNorm((480,), eps=1e-05, elementwise_affine=True)\n",
       "        )\n",
       "        (5): EsmLayer(\n",
       "          (attention): EsmAttention(\n",
       "            (self): EsmSelfAttention(\n",
       "              (query): Linear(in_features=480, out_features=480, bias=True)\n",
       "              (key): Linear(in_features=480, out_features=480, bias=True)\n",
       "              (value): Linear(in_features=480, out_features=480, bias=True)\n",
       "              (dropout): Dropout(p=0.0, inplace=False)\n",
       "              (rotary_embeddings): RotaryEmbedding()\n",
       "            )\n",
       "            (output): EsmSelfOutput(\n",
       "              (dense): Linear(in_features=480, out_features=480, bias=True)\n",
       "              (dropout): Dropout(p=0.0, inplace=False)\n",
       "            )\n",
       "            (LayerNorm): LayerNorm((480,), eps=1e-05, elementwise_affine=True)\n",
       "          )\n",
       "          (intermediate): EsmIntermediate(\n",
       "            (dense): Linear(in_features=480, out_features=1920, bias=True)\n",
       "          )\n",
       "          (output): EsmOutput(\n",
       "            (dense): Linear(in_features=1920, out_features=480, bias=True)\n",
       "            (dropout): Dropout(p=0.0, inplace=False)\n",
       "          )\n",
       "          (LayerNorm): LayerNorm((480,), eps=1e-05, elementwise_affine=True)\n",
       "        )\n",
       "        (6): EsmLayer(\n",
       "          (attention): EsmAttention(\n",
       "            (self): EsmSelfAttention(\n",
       "              (query): Linear(in_features=480, out_features=480, bias=True)\n",
       "              (key): Linear(in_features=480, out_features=480, bias=True)\n",
       "              (value): Linear(in_features=480, out_features=480, bias=True)\n",
       "              (dropout): Dropout(p=0.0, inplace=False)\n",
       "              (rotary_embeddings): RotaryEmbedding()\n",
       "            )\n",
       "            (output): EsmSelfOutput(\n",
       "              (dense): Linear(in_features=480, out_features=480, bias=True)\n",
       "              (dropout): Dropout(p=0.0, inplace=False)\n",
       "            )\n",
       "            (LayerNorm): LayerNorm((480,), eps=1e-05, elementwise_affine=True)\n",
       "          )\n",
       "          (intermediate): EsmIntermediate(\n",
       "            (dense): Linear(in_features=480, out_features=1920, bias=True)\n",
       "          )\n",
       "          (output): EsmOutput(\n",
       "            (dense): Linear(in_features=1920, out_features=480, bias=True)\n",
       "            (dropout): Dropout(p=0.0, inplace=False)\n",
       "          )\n",
       "          (LayerNorm): LayerNorm((480,), eps=1e-05, elementwise_affine=True)\n",
       "        )\n",
       "        (7): EsmLayer(\n",
       "          (attention): EsmAttention(\n",
       "            (self): EsmSelfAttention(\n",
       "              (query): Linear(in_features=480, out_features=480, bias=True)\n",
       "              (key): Linear(in_features=480, out_features=480, bias=True)\n",
       "              (value): Linear(in_features=480, out_features=480, bias=True)\n",
       "              (dropout): Dropout(p=0.0, inplace=False)\n",
       "              (rotary_embeddings): RotaryEmbedding()\n",
       "            )\n",
       "            (output): EsmSelfOutput(\n",
       "              (dense): Linear(in_features=480, out_features=480, bias=True)\n",
       "              (dropout): Dropout(p=0.0, inplace=False)\n",
       "            )\n",
       "            (LayerNorm): LayerNorm((480,), eps=1e-05, elementwise_affine=True)\n",
       "          )\n",
       "          (intermediate): EsmIntermediate(\n",
       "            (dense): Linear(in_features=480, out_features=1920, bias=True)\n",
       "          )\n",
       "          (output): EsmOutput(\n",
       "            (dense): Linear(in_features=1920, out_features=480, bias=True)\n",
       "            (dropout): Dropout(p=0.0, inplace=False)\n",
       "          )\n",
       "          (LayerNorm): LayerNorm((480,), eps=1e-05, elementwise_affine=True)\n",
       "        )\n",
       "        (8): EsmLayer(\n",
       "          (attention): EsmAttention(\n",
       "            (self): EsmSelfAttention(\n",
       "              (query): Linear(in_features=480, out_features=480, bias=True)\n",
       "              (key): Linear(in_features=480, out_features=480, bias=True)\n",
       "              (value): Linear(in_features=480, out_features=480, bias=True)\n",
       "              (dropout): Dropout(p=0.0, inplace=False)\n",
       "              (rotary_embeddings): RotaryEmbedding()\n",
       "            )\n",
       "            (output): EsmSelfOutput(\n",
       "              (dense): Linear(in_features=480, out_features=480, bias=True)\n",
       "              (dropout): Dropout(p=0.0, inplace=False)\n",
       "            )\n",
       "            (LayerNorm): LayerNorm((480,), eps=1e-05, elementwise_affine=True)\n",
       "          )\n",
       "          (intermediate): EsmIntermediate(\n",
       "            (dense): Linear(in_features=480, out_features=1920, bias=True)\n",
       "          )\n",
       "          (output): EsmOutput(\n",
       "            (dense): Linear(in_features=1920, out_features=480, bias=True)\n",
       "            (dropout): Dropout(p=0.0, inplace=False)\n",
       "          )\n",
       "          (LayerNorm): LayerNorm((480,), eps=1e-05, elementwise_affine=True)\n",
       "        )\n",
       "        (9): EsmLayer(\n",
       "          (attention): EsmAttention(\n",
       "            (self): EsmSelfAttention(\n",
       "              (query): Linear(in_features=480, out_features=480, bias=True)\n",
       "              (key): Linear(in_features=480, out_features=480, bias=True)\n",
       "              (value): Linear(in_features=480, out_features=480, bias=True)\n",
       "              (dropout): Dropout(p=0.0, inplace=False)\n",
       "              (rotary_embeddings): RotaryEmbedding()\n",
       "            )\n",
       "            (output): EsmSelfOutput(\n",
       "              (dense): Linear(in_features=480, out_features=480, bias=True)\n",
       "              (dropout): Dropout(p=0.0, inplace=False)\n",
       "            )\n",
       "            (LayerNorm): LayerNorm((480,), eps=1e-05, elementwise_affine=True)\n",
       "          )\n",
       "          (intermediate): EsmIntermediate(\n",
       "            (dense): Linear(in_features=480, out_features=1920, bias=True)\n",
       "          )\n",
       "          (output): EsmOutput(\n",
       "            (dense): Linear(in_features=1920, out_features=480, bias=True)\n",
       "            (dropout): Dropout(p=0.0, inplace=False)\n",
       "          )\n",
       "          (LayerNorm): LayerNorm((480,), eps=1e-05, elementwise_affine=True)\n",
       "        )\n",
       "        (10): EsmLayer(\n",
       "          (attention): EsmAttention(\n",
       "            (self): EsmSelfAttention(\n",
       "              (query): Linear(in_features=480, out_features=480, bias=True)\n",
       "              (key): Linear(in_features=480, out_features=480, bias=True)\n",
       "              (value): Linear(in_features=480, out_features=480, bias=True)\n",
       "              (dropout): Dropout(p=0.0, inplace=False)\n",
       "              (rotary_embeddings): RotaryEmbedding()\n",
       "            )\n",
       "            (output): EsmSelfOutput(\n",
       "              (dense): Linear(in_features=480, out_features=480, bias=True)\n",
       "              (dropout): Dropout(p=0.0, inplace=False)\n",
       "            )\n",
       "            (LayerNorm): LayerNorm((480,), eps=1e-05, elementwise_affine=True)\n",
       "          )\n",
       "          (intermediate): EsmIntermediate(\n",
       "            (dense): Linear(in_features=480, out_features=1920, bias=True)\n",
       "          )\n",
       "          (output): EsmOutput(\n",
       "            (dense): Linear(in_features=1920, out_features=480, bias=True)\n",
       "            (dropout): Dropout(p=0.0, inplace=False)\n",
       "          )\n",
       "          (LayerNorm): LayerNorm((480,), eps=1e-05, elementwise_affine=True)\n",
       "        )\n",
       "        (11): EsmLayer(\n",
       "          (attention): EsmAttention(\n",
       "            (self): EsmSelfAttention(\n",
       "              (query): Linear(in_features=480, out_features=480, bias=True)\n",
       "              (key): Linear(in_features=480, out_features=480, bias=True)\n",
       "              (value): Linear(in_features=480, out_features=480, bias=True)\n",
       "              (dropout): Dropout(p=0.0, inplace=False)\n",
       "              (rotary_embeddings): RotaryEmbedding()\n",
       "            )\n",
       "            (output): EsmSelfOutput(\n",
       "              (dense): Linear(in_features=480, out_features=480, bias=True)\n",
       "              (dropout): Dropout(p=0.0, inplace=False)\n",
       "            )\n",
       "            (LayerNorm): LayerNorm((480,), eps=1e-05, elementwise_affine=True)\n",
       "          )\n",
       "          (intermediate): EsmIntermediate(\n",
       "            (dense): Linear(in_features=480, out_features=1920, bias=True)\n",
       "          )\n",
       "          (output): EsmOutput(\n",
       "            (dense): Linear(in_features=1920, out_features=480, bias=True)\n",
       "            (dropout): Dropout(p=0.0, inplace=False)\n",
       "          )\n",
       "          (LayerNorm): LayerNorm((480,), eps=1e-05, elementwise_affine=True)\n",
       "        )\n",
       "      )\n",
       "      (emb_layer_norm_after): LayerNorm((480,), eps=1e-05, elementwise_affine=True)\n",
       "    )\n",
       "    (pooler): EsmPooler(\n",
       "      (dense): Linear(in_features=480, out_features=480, bias=True)\n",
       "      (activation): Tanh()\n",
       "    )\n",
       "  )\n",
       "  (genome_linear): Sequential(\n",
       "    (0): Linear(in_features=340, out_features=256, bias=True)\n",
       "    (1): ReLU()\n",
       "    (2): Linear(in_features=256, out_features=128, bias=True)\n",
       "  )\n",
       "  (peptide_linear): Sequential(\n",
       "    (0): Linear(in_features=480, out_features=256, bias=True)\n",
       "  )\n",
       "  (linear): Sequential(\n",
       "    (0): Linear(in_features=384, out_features=256, bias=True)\n",
       "    (1): ReLU()\n",
       "    (2): Linear(in_features=256, out_features=256, bias=True)\n",
       "    (3): ReLU()\n",
       "    (4): Linear(in_features=256, out_features=1, bias=True)\n",
       "  )\n",
       ")"
      ]
     },
     "execution_count": 4,
     "metadata": {},
     "output_type": "execute_result"
    }
   ],
   "source": [
    "LLAMP_model.load_state_dict(torch.load('model_weight/LLAMP.pth'), strict=False)\n",
    "LLAMP_model.to(device)"
   ]
  },
  {
   "cell_type": "markdown",
   "id": "6241509a-e5da-48a5-ad48-da2acd174464",
   "metadata": {},
   "source": [
    "# Load Dataset"
   ]
  },
  {
   "cell_type": "code",
   "execution_count": 5,
   "id": "ddda420e-a6ca-40d7-a7a9-46e2f1394509",
   "metadata": {
    "tags": []
   },
   "outputs": [],
   "source": [
    "from utils import dataset"
   ]
  },
  {
   "cell_type": "code",
   "execution_count": 6,
   "id": "3f2a5fc7-0763-430e-b1b3-80665bd49747",
   "metadata": {
    "tags": []
   },
   "outputs": [
    {
     "data": {
      "text/html": [
       "<div>\n",
       "<style scoped>\n",
       "    .dataframe tbody tr th:only-of-type {\n",
       "        vertical-align: middle;\n",
       "    }\n",
       "\n",
       "    .dataframe tbody tr th {\n",
       "        vertical-align: top;\n",
       "    }\n",
       "\n",
       "    .dataframe thead th {\n",
       "        text-align: right;\n",
       "    }\n",
       "</style>\n",
       "<table border=\"1\" class=\"dataframe\">\n",
       "  <thead>\n",
       "    <tr style=\"text-align: right;\">\n",
       "      <th></th>\n",
       "      <th>sequence</th>\n",
       "      <th>label</th>\n",
       "      <th>species</th>\n",
       "    </tr>\n",
       "  </thead>\n",
       "  <tbody>\n",
       "    <tr>\n",
       "      <th>0</th>\n",
       "      <td>AGRQTIAKYLRREIRKRGRKWVIAW</td>\n",
       "      <td>0.000000</td>\n",
       "      <td>Escherichia coli</td>\n",
       "    </tr>\n",
       "    <tr>\n",
       "      <th>1</th>\n",
       "      <td>KIAGKIAAIAGKIAKIAGAIAKIAGKIA</td>\n",
       "      <td>0.482921</td>\n",
       "      <td>Escherichia coli</td>\n",
       "    </tr>\n",
       "    <tr>\n",
       "      <th>2</th>\n",
       "      <td>FLPGLECVSGKIVPTVFCAITRIC</td>\n",
       "      <td>0.766642</td>\n",
       "      <td>Escherichia coli</td>\n",
       "    </tr>\n",
       "    <tr>\n",
       "      <th>3</th>\n",
       "      <td>IRPIIRPIIRPIIRPI</td>\n",
       "      <td>1.204120</td>\n",
       "      <td>Escherichia coli</td>\n",
       "    </tr>\n",
       "    <tr>\n",
       "      <th>4</th>\n",
       "      <td>TPFLLVGTQIDLR</td>\n",
       "      <td>0.380211</td>\n",
       "      <td>Escherichia coli</td>\n",
       "    </tr>\n",
       "    <tr>\n",
       "      <th>...</th>\n",
       "      <td>...</td>\n",
       "      <td>...</td>\n",
       "      <td>...</td>\n",
       "    </tr>\n",
       "    <tr>\n",
       "      <th>3736</th>\n",
       "      <td>GRLRNLIEKAGQNIRGKIQGIGRRIKDILKNLQPRPQV</td>\n",
       "      <td>0.634700</td>\n",
       "      <td>Staphylococcus haemolyticus</td>\n",
       "    </tr>\n",
       "    <tr>\n",
       "      <th>3737</th>\n",
       "      <td>FQRYFHRYARFLAKIWKG</td>\n",
       "      <td>1.000000</td>\n",
       "      <td>Staphylococcus haemolyticus</td>\n",
       "    </tr>\n",
       "    <tr>\n",
       "      <th>3738</th>\n",
       "      <td>YKRWKKWRSKAKKIL</td>\n",
       "      <td>0.296820</td>\n",
       "      <td>Staphylococcus haemolyticus</td>\n",
       "    </tr>\n",
       "    <tr>\n",
       "      <th>3739</th>\n",
       "      <td>IGRHFKRRNSIWGICWF</td>\n",
       "      <td>1.170262</td>\n",
       "      <td>Staphylococcus haemolyticus</td>\n",
       "    </tr>\n",
       "    <tr>\n",
       "      <th>3740</th>\n",
       "      <td>FLRNGGSYYIVPAFRGKG</td>\n",
       "      <td>1.000000</td>\n",
       "      <td>Staphylococcus haemolyticus</td>\n",
       "    </tr>\n",
       "  </tbody>\n",
       "</table>\n",
       "<p>3741 rows × 3 columns</p>\n",
       "</div>"
      ],
      "text/plain": [
       "                                    sequence     label  \\\n",
       "0                  AGRQTIAKYLRREIRKRGRKWVIAW  0.000000   \n",
       "1               KIAGKIAAIAGKIAKIAGAIAKIAGKIA  0.482921   \n",
       "2                   FLPGLECVSGKIVPTVFCAITRIC  0.766642   \n",
       "3                           IRPIIRPIIRPIIRPI  1.204120   \n",
       "4                              TPFLLVGTQIDLR  0.380211   \n",
       "...                                      ...       ...   \n",
       "3736  GRLRNLIEKAGQNIRGKIQGIGRRIKDILKNLQPRPQV  0.634700   \n",
       "3737                      FQRYFHRYARFLAKIWKG  1.000000   \n",
       "3738                         YKRWKKWRSKAKKIL  0.296820   \n",
       "3739                       IGRHFKRRNSIWGICWF  1.170262   \n",
       "3740                      FLRNGGSYYIVPAFRGKG  1.000000   \n",
       "\n",
       "                          species  \n",
       "0                Escherichia coli  \n",
       "1                Escherichia coli  \n",
       "2                Escherichia coli  \n",
       "3                Escherichia coli  \n",
       "4                Escherichia coli  \n",
       "...                           ...  \n",
       "3736  Staphylococcus haemolyticus  \n",
       "3737  Staphylococcus haemolyticus  \n",
       "3738  Staphylococcus haemolyticus  \n",
       "3739  Staphylococcus haemolyticus  \n",
       "3740  Staphylococcus haemolyticus  \n",
       "\n",
       "[3741 rows x 3 columns]"
      ]
     },
     "execution_count": 6,
     "metadata": {},
     "output_type": "execute_result"
    }
   ],
   "source": [
    "test_df = pd.read_csv('data/DBAASP/test.csv')\n",
    "test_df"
   ]
  },
  {
   "cell_type": "code",
   "execution_count": 7,
   "id": "e7791ca1-178c-4fbb-9753-21f80aa134c5",
   "metadata": {
    "tags": []
   },
   "outputs": [],
   "source": [
    "genome_feat_dict = torch.load('data/Genomic_featrues/genome_features.pt')\n",
    "\n",
    "seqs = list(test_df.sequence.astype(str))\n",
    "\n",
    "genome_feats = dataset.get_features(test_df['species'], genome_feat_dict)"
   ]
  },
  {
   "cell_type": "code",
   "execution_count": 8,
   "id": "7f3b0006-46f5-4b93-a9eb-d27bfd7460ec",
   "metadata": {
    "tags": []
   },
   "outputs": [
    {
     "name": "stderr",
     "output_type": "stream",
     "text": [
      "/usr/local/lib/python3.7/site-packages/transformers/tokenization_utils_base.py:2310: FutureWarning: The `pad_to_max_length` argument is deprecated and will be removed in a future version, use `padding=True` or `padding='longest'` to pad to the longest sequence in the batch, or use `padding='max_length'` to pad to a max length. In this case, you can give a specific length with `max_length` (e.g. `max_length=45`) or leave max_length to None to pad to the maximal input size of the model (e.g. 512 for Bert).\n",
      "  FutureWarning,\n"
     ]
    }
   ],
   "source": [
    "test_dataloader = dataset.data_loader(seqs, genome_feats, torch.as_tensor(test_df['label'], dtype=torch.float32), BATCH_SIZE = 32)"
   ]
  },
  {
   "cell_type": "markdown",
   "id": "772fee18-69ad-41ee-9a2d-572db3fcca75",
   "metadata": {},
   "source": [
    "# Check test performance"
   ]
  },
  {
   "cell_type": "code",
   "execution_count": 9,
   "id": "72976d78-13e0-43bb-a5e8-3a15f40f3b16",
   "metadata": {
    "tags": []
   },
   "outputs": [],
   "source": [
    "from utils import utils"
   ]
  },
  {
   "cell_type": "code",
   "execution_count": 10,
   "id": "325d7274-13ad-4064-aec8-bbb96bf80c0f",
   "metadata": {
    "tags": []
   },
   "outputs": [],
   "source": [
    "labels = []\n",
    "preds = []\n",
    "with torch.no_grad():\n",
    "    for input_ids, attention_mask, genome_feat, label in (test_dataloader):\n",
    "        input_ids = input_ids.to(device)\n",
    "        attention_mask = attention_mask.to(device)\n",
    "        genome_feat = genome_feat.to(device)\n",
    "        label = label.to(device)\n",
    "        \n",
    "        output = LLAMP_model(input_ids, attention_mask, genome_feat)\n",
    "        \n",
    "        labels.append(label)\n",
    "        preds.append(output)\n",
    "\n",
    "    labels = torch.cat(labels)\n",
    "    labels = labels.cpu().numpy()\n",
    "\n",
    "    preds = torch.cat(preds)\n",
    "    preds = preds.cpu().numpy()"
   ]
  },
  {
   "cell_type": "code",
   "execution_count": 11,
   "id": "0dfc87c8-37f6-4636-a22e-cb2642776f09",
   "metadata": {
    "tags": []
   },
   "outputs": [
    {
     "data": {
      "text/plain": [
       "{'R_squre': 0.5364365222074534,\n",
       " 'mae': 0.37941855,\n",
       " 'mse': 0.27161157,\n",
       " 'rmse': 0.52116364,\n",
       " 'Pearson Q': 0.7346180686280134}"
      ]
     },
     "execution_count": 11,
     "metadata": {},
     "output_type": "execute_result"
    }
   ],
   "source": [
    "utils.compute_metrics(preds, labels)"
   ]
  },
  {
   "cell_type": "markdown",
   "id": "d34df6b6-285d-4152-8a80-66544631cd85",
   "metadata": {},
   "source": [
    "# Inference for seq about 45 species"
   ]
  },
  {
   "cell_type": "code",
   "execution_count": 12,
   "id": "12a5f3d6-52c3-48a4-b58a-30b16f397a50",
   "metadata": {
    "tags": []
   },
   "outputs": [
    {
     "data": {
      "text/plain": [
       "dict_keys(['Escherichia coli', 'Staphylococcus aureus', 'Pseudomonas aeruginosa', 'Salmonella enterica', 'Bacillus subtilis', 'Klebsiella pneumoniae', 'Staphylococcus epidermidis', 'Acinetobacter baumannii', 'Enterococcus faecalis', 'Micrococcus luteus', 'Listeria monocytogenes', 'Bacillus cereus', 'Enterococcus faecium', 'Enterobacter cloacae', 'Streptococcus mutans', 'Streptococcus pyogenes', 'Bacillus megaterium', 'Pseudomonas syringae', 'Streptococcus pneumoniae', 'Proteus mirabilis', 'Klebsiella aerogenes', 'Stenotrophomonas maltophilia', 'Serratia marcescens', 'Shigella dysenteriae', 'Proteus vulgaris', 'Streptococcus agalactiae', 'Aeromonas salmonicida', 'Vibrio parahaemolyticus', 'Listeria innocua', 'Aeromonas hydrophila', 'Pasteurella multocida', 'Klebsiella oxytoca', 'Lactococcus lactis', 'Pectobacterium carotovorum', 'Staphylococcus haemolyticus', 'Vibrio alginolyticus', 'Pseudomonas putida', 'Shigella flexneri', 'Staphylococcus xylosus', 'Vibrio anguillarum', 'Corynebacterium glutamicum', 'Mycobacterium tuberculosis', 'Vibrio cholerae', 'Streptococcus sanguinis', 'Streptococcus uberis'])"
      ]
     },
     "execution_count": 12,
     "metadata": {},
     "output_type": "execute_result"
    }
   ],
   "source": [
    "genome_feat_dict.keys()"
   ]
  },
  {
   "cell_type": "code",
   "execution_count": 13,
   "id": "76ef8585-8f1e-468a-8e5e-bf50cd92da2d",
   "metadata": {
    "tags": []
   },
   "outputs": [],
   "source": [
    "sequence = 'SSSSSSAAAAARRRRRRRGGGGGGGG'\n",
    "species = 'Escherichia coli'"
   ]
  },
  {
   "cell_type": "code",
   "execution_count": 14,
   "id": "422ab2de-5a44-4615-9bbf-2d2ce9579eb7",
   "metadata": {
    "tags": []
   },
   "outputs": [],
   "source": [
    "tokenizer = EsmTokenizer.from_pretrained('Daehun/peptide_tuned_ESM-2')\n",
    "\n",
    "def get_inputs(seq, species):\n",
    "    inputs = tokenizer.batch_encode_plus([seq])\n",
    "    \n",
    "    input_id = torch.tensor(inputs['input_ids'])\n",
    "    attention_mask = torch.tensor(inputs['attention_mask'])\n",
    "    \n",
    "    genome_feat = torch.as_tensor(genome_feat_dict[species][0], dtype=torch.float32).unsqueeze(0)\n",
    "    \n",
    "    return input_id, attention_mask, genome_feat\n",
    "\n",
    "input_id, attention_mask, genome_feat = get_inputs(sequence, species)\n",
    "\n",
    "input_id = input_id.to(device)\n",
    "attention_mask = attention_mask.to(device)\n",
    "genome_feat = genome_feat.to(device)"
   ]
  },
  {
   "cell_type": "code",
   "execution_count": 15,
   "id": "2508fcbd-5e1d-4017-8e5a-17fb5ff43866",
   "metadata": {
    "tags": []
   },
   "outputs": [],
   "source": [
    "with torch.no_grad():\n",
    "    output = LLAMP_model(input_id, attention_mask, genome_feat)\n",
    "output = output.cpu().numpy()"
   ]
  },
  {
   "cell_type": "code",
   "execution_count": 16,
   "id": "35bda7cc-4553-4f38-82e4-04d338853dd5",
   "metadata": {
    "tags": []
   },
   "outputs": [
    {
     "name": "stdout",
     "output_type": "stream",
     "text": [
      "MIC (log uM) about Escherichia coli : 1.8840848207473755\n",
      "MIC (uM) about Escherichia coli : 76.57461478816683\n"
     ]
    }
   ],
   "source": [
    "print(f\"MIC (log uM) about {species} : {output}\")\n",
    "print(f\"MIC (uM) about {species} : {10**output}\")"
   ]
  }
 ],
 "metadata": {
  "kernelspec": {
   "display_name": "Python 3 (ipykernel)",
   "language": "python",
   "name": "python3"
  },
  "language_info": {
   "codemirror_mode": {
    "name": "ipython",
    "version": 3
   },
   "file_extension": ".py",
   "mimetype": "text/x-python",
   "name": "python",
   "nbconvert_exporter": "python",
   "pygments_lexer": "ipython3",
   "version": "3.7.13"
  }
 },
 "nbformat": 4,
 "nbformat_minor": 5
}
